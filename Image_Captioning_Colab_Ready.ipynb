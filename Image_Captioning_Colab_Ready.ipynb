{
 "cells": [
  {
   "cell_type": "markdown",
   "id": "3c6272ef",
   "metadata": {},
   "source": [
    "# 🖼️ Image Captioning in Google Colab (Simple & Mobile Friendly)\n",
    "Generate captions for your images using a pre-trained model."
   ]
  },
  {
   "cell_type": "code",
   "execution_count": null,
   "id": "3b6df9a7",
   "metadata": {},
   "outputs": [],
   "source": [
    "!pip install transformers==4.21.2 pillow matplotlib"
   ]
  },
  {
   "cell_type": "code",
   "execution_count": null,
   "id": "2fd8aa15",
   "metadata": {},
   "outputs": [],
   "source": [
    "\n",
    "from transformers import VisionEncoderDecoderModel, ViTImageProcessor, AutoTokenizer\n",
    "import torch\n",
    "from PIL import Image\n",
    "import requests\n",
    "import matplotlib.pyplot as plt\n",
    "from google.colab import files\n"
   ]
  },
  {
   "cell_type": "code",
   "execution_count": null,
   "id": "32ae5aa3",
   "metadata": {},
   "outputs": [],
   "source": [
    "\n",
    "# Load the model and processor\n",
    "model = VisionEncoderDecoderModel.from_pretrained(\"nlpconnect/vit-gpt2-image-captioning\")\n",
    "feature_extractor = ViTImageProcessor.from_pretrained(\"nlpconnect/vit-gpt2-image-captioning\")\n",
    "tokenizer = AutoTokenizer.from_pretrained(\"nlpconnect/vit-gpt2-image-captioning\")\n",
    "device = torch.device(\"cuda\" if torch.cuda.is_available() else \"cpu\")\n",
    "model.to(device)\n"
   ]
  },
  {
   "cell_type": "code",
   "execution_count": null,
   "id": "a0ec0c5d",
   "metadata": {},
   "outputs": [],
   "source": [
    "\n",
    "# Upload an image\n",
    "uploaded = files.upload()\n",
    "image_path = next(iter(uploaded))\n",
    "image = Image.open(image_path).convert(\"RGB\")\n",
    "\n",
    "# Show the image\n",
    "plt.imshow(image)\n",
    "plt.axis('off')\n",
    "plt.show()\n"
   ]
  },
  {
   "cell_type": "code",
   "execution_count": null,
   "id": "6de9022e",
   "metadata": {},
   "outputs": [],
   "source": [
    "\n",
    "# Generate caption\n",
    "def generate_caption(image):\n",
    "    pixel_values = feature_extractor(images=image, return_tensors=\"pt\").pixel_values\n",
    "    pixel_values = pixel_values.to(device)\n",
    "\n",
    "    output_ids = model.generate(pixel_values, max_length=16, num_beams=4)\n",
    "    preds = tokenizer.decode(output_ids[0], skip_special_tokens=True)\n",
    "    return preds\n",
    "\n",
    "caption = generate_caption(image)\n",
    "print(\"📝 Caption:\", caption)\n"
   ]
  }
 ],
 "metadata": {},
 "nbformat": 4,
 "nbformat_minor": 5
}
