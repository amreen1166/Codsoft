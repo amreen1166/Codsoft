{
 "cells": [
  {
   "cell_type": "markdown",
   "id": "53c6d392",
   "metadata": {},
   "source": [
    "# 🧠 Face Detection in Google Colab (Mobile Friendly)\n",
    "Detect faces in any uploaded image using OpenCV and Haar Cascades."
   ]
  },
  {
   "cell_type": "code",
   "execution_count": null,
   "id": "171bb689",
   "metadata": {},
   "outputs": [],
   "source": [
    "!pip install opencv-python-headless pillow matplotlib"
   ]
  },
  {
   "cell_type": "code",
   "execution_count": null,
   "id": "06a679b4",
   "metadata": {},
   "outputs": [],
   "source": [
    "\n",
    "import cv2\n",
    "from PIL import Image\n",
    "import matplotlib.pyplot as plt\n",
    "from google.colab import files\n"
   ]
  },
  {
   "cell_type": "code",
   "execution_count": null,
   "id": "700fe765",
   "metadata": {},
   "outputs": [],
   "source": [
    "\n",
    "# Upload Image\n",
    "uploaded = files.upload()\n",
    "file_name = next(iter(uploaded))\n",
    "img = cv2.imread(file_name)\n",
    "gray = cv2.cvtColor(img, cv2.COLOR_BGR2GRAY)\n"
   ]
  },
  {
   "cell_type": "code",
   "execution_count": null,
   "id": "510f436a",
   "metadata": {},
   "outputs": [],
   "source": [
    "\n",
    "# Load Haar Cascade\n",
    "face_cascade = cv2.CascadeClassifier(cv2.data.haarcascades + 'haarcascade_frontalface_default.xml')\n",
    "\n",
    "# Detect Faces\n",
    "faces = face_cascade.detectMultiScale(gray, 1.1, 4)\n",
    "\n",
    "# Draw rectangles\n",
    "for (x, y, w, h) in faces:\n",
    "    cv2.rectangle(img, (x, y), (x+w, y+h), (255, 0, 0), 2)\n",
    "\n",
    "# Show result\n",
    "plt.figure(figsize=(6,6))\n",
    "plt.imshow(cv2.cvtColor(img, cv2.COLOR_BGR2RGB))\n",
    "plt.axis('off')\n",
    "plt.show()\n"
   ]
  }
 ],
 "metadata": {},
 "nbformat": 4,
 "nbformat_minor": 5
}
